{
 "cells": [
  {
   "cell_type": "markdown",
   "id": "920cb053",
   "metadata": {},
   "source": [
    "<h1>TOPIC 1. Fundamentals</h1>"
   ]
  },
  {
   "cell_type": "markdown",
   "id": "cd4efd66",
   "metadata": {},
   "source": [
    "<h2>1. Printing</h2>\n",
    "\n",
    "Printing to the console is very simple and intuitive in Python. It can be done using the ```print()``` function.\n",
    "\n",
    "```print(*objects, sep=' ', end='\\n', file=sys.stdout, flush=False)```\n",
    "\n",
    "The print function can take in any number of objects as input. \n",
    "\n",
    "The sep value is used to separate the input objects when printing them.\n",
    "\n",
    "The end value is used at the end of the print output.\n",
    "\n",
    "The file value is where the print function outputs to; it is set to the console by default (sys.stdout).\n",
    "\n",
    "The flush value is set to False by default, meaning it will wait until a line-break, '\\n', character is input into the input stream to flush all of the characters in the input stream. \n",
    "\n",
    "For the most part, you use the default values for sep, end, file, and flush args, but they can be set to different values. "
   ]
  },
  {
   "cell_type": "code",
   "execution_count": null,
   "id": "bf5bbf00",
   "metadata": {},
   "outputs": [],
   "source": [
    "# using single or double quotes don't matter\n",
    "print('1. hello world')\n",
    "print(\"2. hello world\")"
   ]
  },
  {
   "cell_type": "code",
   "execution_count": null,
   "id": "aa420e16",
   "metadata": {},
   "outputs": [],
   "source": [
    "# printing multiple objects (strings)\n",
    "print('3. hi,', \"I'm\", 'Paul.')"
   ]
  },
  {
   "cell_type": "code",
   "execution_count": null,
   "id": "1ec763c2",
   "metadata": {},
   "outputs": [],
   "source": [
    "# set the sep value\n",
    "print('4. hi,', \"I'm\", 'Paul.', sep='-')"
   ]
  },
  {
   "cell_type": "code",
   "execution_count": null,
   "id": "95162557",
   "metadata": {},
   "outputs": [],
   "source": [
    "# set the end value\n",
    "print('5. let\\'s golf.', end=' ')\n",
    "print('6. bogey boys.')"
   ]
  },
  {
   "cell_type": "markdown",
   "id": "f62c2dd1",
   "metadata": {},
   "source": [
    "<h2>2. Comments</h2>\n",
    "\n",
    "Comments are non-executable strings in code that are used to describe the code. There are two ways to add comments to your code in Python.\n",
    "\n",
    "```# single-line quotes``` <br>\n",
    "```\"\"\" multi-line quotes \"\"\"```"
   ]
  },
  {
   "cell_type": "markdown",
   "id": "48d0e6ef",
   "metadata": {},
   "source": [
    "<h2>3. Arithmetic</h2>\n",
    "\n",
    "Python supports a variety of arithmetic operations.\n",
    "\n",
    "| Operator | Name | Description | \n",
    "| :---: | :---: | ---: |\n",
    "| ```a + b``` | Addition | Sum of <b>a</b> and <b>b</b> |\n",
    "| ```a - b``` | Subtraction | Difference of <b>a</b> and <b>b</b> |\n",
    "| ```a * b``` | Multiplication | Product of <b>a</b> and <b>b</b> |\n",
    "| ```a / b``` | True Division | Quotient of <b>a</b> and <b>b</b> |\n",
    "| ```a // b``` | Floor Division | Quotient of <b>a</b> and <b>b</b>, removing fractional parts |\n",
    "| ```a % b``` | Modulus | Integer remainder after division of <b>a</b> and <b>b</b> |\n",
    "| ```a ** b``` | Exponentiation | <b>a</b> raised to the power of <b>b</b> |\n",
    "| ```-a``` | Negation | The negative of <b>a</b> |"
   ]
  },
  {
   "cell_type": "code",
   "execution_count": null,
   "id": "21818b3e",
   "metadata": {},
   "outputs": [],
   "source": [
    "# addition\n",
    "3+5"
   ]
  },
  {
   "cell_type": "code",
   "execution_count": null,
   "id": "87d5140d",
   "metadata": {},
   "outputs": [],
   "source": [
    "# subtraction\n",
    "10-3"
   ]
  },
  {
   "cell_type": "code",
   "execution_count": null,
   "id": "800af946",
   "metadata": {},
   "outputs": [],
   "source": [
    "# multiplication\n",
    "3*3"
   ]
  },
  {
   "cell_type": "code",
   "execution_count": null,
   "id": "fcf875ab",
   "metadata": {},
   "outputs": [],
   "source": [
    "# true division (always returns a float)\n",
    "7/2"
   ]
  },
  {
   "cell_type": "code",
   "execution_count": null,
   "id": "e6321752",
   "metadata": {},
   "outputs": [],
   "source": [
    "# floor division (always returns an int)\n",
    "7//2"
   ]
  },
  {
   "cell_type": "code",
   "execution_count": null,
   "id": "bde5a9c0",
   "metadata": {},
   "outputs": [],
   "source": [
    "# modulus\n",
    "5%3"
   ]
  },
  {
   "cell_type": "code",
   "execution_count": null,
   "id": "38250d42",
   "metadata": {},
   "outputs": [],
   "source": [
    "# exponentiation\n",
    "2**3"
   ]
  },
  {
   "cell_type": "code",
   "execution_count": null,
   "id": "640fb645",
   "metadata": {},
   "outputs": [],
   "source": [
    "# negation\n",
    "-5"
   ]
  },
  {
   "cell_type": "markdown",
   "id": "b543cda4",
   "metadata": {},
   "source": [
    "<h2>4. Variables</h2>\n",
    "\n",
    "In programming, it is common to assign values to variables so we can use them later.\n",
    "\n",
    "<h3>Creating/Assigning Variables</h3>\n",
    "<ul>\n",
    "    <li>Variable names cannot contain spaces.</li>\n",
    "    <li>Variable names can only contain letters, numbers, and underscores.</li>\n",
    "    <li>Variable names must start with a letter or underscore.</li>\n",
    "</ul>"
   ]
  },
  {
   "cell_type": "code",
   "execution_count": 82,
   "id": "291946cd",
   "metadata": {},
   "outputs": [
    {
     "name": "stdout",
     "output_type": "stream",
     "text": [
      "hello world\n",
      "\n",
      "5\n",
      "0.0\n",
      "[]\n"
     ]
    },
    {
     "data": {
      "text/plain": [
       "'hello world'"
      ]
     },
     "execution_count": 82,
     "metadata": {},
     "output_type": "execute_result"
    }
   ],
   "source": [
    "# create a variable by assigning it value\n",
    "var1 = 'hello world'\n",
    "var2 = str()\n",
    "var3 = int(5)\n",
    "var4 = float()\n",
    "var5 = list()\n",
    "print(var1, var2, var3, var4, var5, sep='\\n')\n",
    "var1"
   ]
  },
  {
   "cell_type": "markdown",
   "id": "3f05809a",
   "metadata": {},
   "source": [
    "<h2>Putting it All Together</h2>\n",
    "\n",
    "Write a python script that calculates and outputs the number of seconds in 3 years.  Assume 365 days for each year."
   ]
  },
  {
   "cell_type": "code",
   "execution_count": 90,
   "id": "9d374a6d",
   "metadata": {},
   "outputs": [
    {
     "name": "stdout",
     "output_type": "stream",
     "text": [
      "There are 94608000 seconds in 3 years.\n"
     ]
    }
   ],
   "source": [
    "# assign variables\n",
    "num_years = 3\n",
    "days_per_year = 365\n",
    "hours_per_day = 24\n",
    "mins_per_hour = 60\n",
    "secs_per_min = 60\n",
    "\n",
    "# calculate the number of years in seconds by multiplying all of the variables together\n",
    "yrs_in_secs = num_years * days_per_year * hours_per_day * mins_per_hour * secs_per_min\n",
    "\n",
    "# output to console\n",
    "print('There are {} seconds in {} years.'.format(yrs_in_secs, num_years))"
   ]
  },
  {
   "cell_type": "markdown",
   "id": "00af93de",
   "metadata": {},
   "source": [
    "<h1>TOPIC 2. Functions</h1>"
   ]
  },
  {
   "cell_type": "code",
   "execution_count": null,
   "id": "3f3c2a87",
   "metadata": {},
   "outputs": [],
   "source": []
  }
 ],
 "metadata": {
  "kernelspec": {
   "display_name": "Python 3",
   "language": "python",
   "name": "python3"
  },
  "language_info": {
   "codemirror_mode": {
    "name": "ipython",
    "version": 3
   },
   "file_extension": ".py",
   "mimetype": "text/x-python",
   "name": "python",
   "nbconvert_exporter": "python",
   "pygments_lexer": "ipython3",
   "version": "3.8.8"
  }
 },
 "nbformat": 4,
 "nbformat_minor": 5
}
